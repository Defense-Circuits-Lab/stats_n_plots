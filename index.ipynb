{
 "cells": [
  {
   "cell_type": "raw",
   "metadata": {},
   "source": [
    "---\n",
    "description: An interactive widget to compute statistics and plot your data\n",
    "output-file: index.html\n",
    "title: dcl_stats_n_plots\n",
    "\n",
    "---\n",
    "\n"
   ]
  },
  {
   "cell_type": "markdown",
   "metadata": {},
   "source": [
    "This repository is part of the **DCLwidgets** series. \n",
    "These repositories are dedicated to foster the joint development of tools and resources by the [Defense Circuits Lab](https://www.defense-circuits-lab.com/). \n",
    "The intended use of each tool may vary greatly from very lab- and/or analysis-specific problems, to tools and resources that may be of use also for other researchers.\n",
    "The common goal for each repository, however, is to provide the tool as an interactive, userfriendly, and intuitive GUI so that the user needs little to no coding expertise.\n",
    "\n",
    "List of all repositories of the DCLwidgets series:\n",
    "- [dcl_stats_n_plots](https://github.com/DSegebarth/dcl_stats_n_plots/): A widget to compute statistics and plot the data with several options to customize the plot\n",
    "- [DCL_to_NWB](https://github.com/DSegebarth/DCL_to_NWB/): A widget to convert datasets acquired in the DCL into the NWB file format\n",
    "- [BSc_MS](https://github.com/DSegebarth/BSc_MS/): A widget to annotate the corners of a maze within video files and save the corresponding x- and y-coordinates\n",
    "\n",
    "---"
   ]
  },
  {
   "cell_type": "markdown",
   "metadata": {},
   "source": [
    "## About this widget"
   ]
  },
  {
   "cell_type": "markdown",
   "metadata": {},
   "source": [
    "The purpose of this widget is to make everyday life in the lab a little easier, as it helps you to compute statistical tests and to create\n",
    "highly customizable plots that visualize your data. The widget also enables you to select exactly which statistical results you would like to annotate within the plots. This way, statistical analysis and visualization of your data is what it should be - simple & fast!\n",
    "\n",
    "Please get in touch if you have any feedback, questions, or feature requests for us!\n",
    "\n",
    "---"
   ]
  },
  {
   "cell_type": "markdown",
   "metadata": {},
   "source": [
    "## How to use\n",
    "\n",
    ".. currently being updated .."
   ]
  },
  {
   "cell_type": "markdown",
   "metadata": {},
   "source": [
    "## Installation"
   ]
  },
  {
   "cell_type": "markdown",
   "metadata": {},
   "source": [
    "Installation from PyPi:"
   ]
  },
  {
   "cell_type": "markdown",
   "metadata": {},
   "source": [
    "`pip install dcl-stats-n-plots`"
   ]
  },
  {
   "cell_type": "markdown",
   "metadata": {},
   "source": [
    ":::{.callout-note}\n",
    "\n",
    "Detailed installation guide to come\n",
    "\n",
    ":::"
   ]
  },
  {
   "cell_type": "markdown",
   "metadata": {},
   "source": [
    "## Next steps"
   ]
  },
  {
   "cell_type": "markdown",
   "metadata": {},
   "source": [
    "The next steps include:\n",
    "\n",
    "* Discuss tests and their use with members of the lab and institute to make sure they follow best practices\n",
    "* Extend documentation\n",
    "* Provide detailed installation guide for users that don´t have access to the DCL server or want to use it on their local computer\n",
    "* implement tests & plots for repeated measurements\n",
    "* implement 'dashboard' functionalities for selected projects within the [DCL](https://www.defense-circuits-lab.com/) or the [CRC Retune](https://retune.science/)\n"
   ]
  },
  {
   "cell_type": "code",
   "execution_count": null,
   "metadata": {},
   "outputs": [],
   "source": []
  }
 ],
 "metadata": {
  "kernelspec": {
   "display_name": "Python 3 (ipykernel)",
   "language": "python",
   "name": "python3"
  },
  "language_info": {
   "codemirror_mode": {
    "name": "ipython",
    "version": 3
   },
   "file_extension": ".py",
   "mimetype": "text/x-python",
   "name": "python",
   "nbconvert_exporter": "python",
   "pygments_lexer": "ipython3",
   "version": "3.9.0"
  }
 },
 "nbformat": 4,
 "nbformat_minor": 4
}
