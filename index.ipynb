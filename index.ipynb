{
 "cells": [
  {
   "cell_type": "raw",
   "metadata": {},
   "source": [
    "---\n",
    "description: Computation and visualization of statistical analyses common in the Life sciences made easy \n",
    "output-file: index.html\n",
    "title: stats_n_plots\n",
    "\n",
    "---\n",
    "\n"
   ]
  },
  {
   "cell_type": "markdown",
   "metadata": {},
   "source": [
    "This repository is part of the **DCLwidgets** series. \n",
    "These repositories are dedicated to foster the joint development of tools and resources by the [Defense Circuits Lab](https://www.defense-circuits-lab.com/). \n",
    "The intended use of each tool may vary greatly from very lab- and/or analysis-specific problems, to tools and resources that may be of use also for other researchers.\n",
    "The common goal for each repository, however, is to provide the tool as an interactive, userfriendly, and intuitive GUI (usually based on [ipywidgets](https://ipywidgets.readthedocs.io/en/stable/), hence the name), such that the user needs little to no coding expertise.\n",
    "\n",
    "List of all repositories of the DCLwidgets series: <br>\n",
    "\n",
    "* [stats_n_plots](https://github.com/Defense-Circuits-Lab/stats_n_plots): A widget to computate and visualize statistical analyses common in the Life sciences (previously hosted [here](https://github.com/DSegebarth/dcl_stats_n_plots))\n",
    "* [DCL_to_NWB](https://github.com/DSegebarth/DCL_to_NWB/): A widget to convert datasets acquired in the DCL into the NWB file format\n",
    "* [BSc_MS](https://github.com/DSegebarth/BSc_MS/): A widget to annotate the corners of a maze within video files and save the corresponding x- and y-coordinates\n",
    "\n",
    "---"
   ]
  },
  {
   "cell_type": "markdown",
   "metadata": {},
   "source": [
    "## About this widget"
   ]
  },
  {
   "cell_type": "markdown",
   "metadata": {},
   "source": [
    "The purpose of this widget is to make everyday life in the lab a little easier, as it helps you to compute statistical tests and to create\n",
    "highly customizable plots that visualize your data. The widget also enables you to select exactly which statistical results you would like to annotate within the plots. This way, statistical analysis and visualization of your data is what it should be - simple & fast!\n",
    "\n",
    "Please get in touch if you have any feedback, questions, or feature requests for us!\n",
    "\n",
    "---"
   ]
  },
  {
   "cell_type": "markdown",
   "metadata": {},
   "source": [
    "## Installation"
   ]
  },
  {
   "cell_type": "markdown",
   "metadata": {},
   "source": [
    "### Using conda:"
   ]
  },
  {
   "cell_type": "markdown",
   "metadata": {},
   "source": [
    "Although the `stats_n_plots` package itself is only available on [PiPy](https://pypi.org/project/stats-n-plots/), we yet recommend installation via conda - especially if you would like to use the GUI. Simply recreate the conda environment on your local machine by running the following command in your command line or terminal (e.g. Anaconda prompt). You can find the corresponding \"environment.yml\" file in the GitHub repo ([here](https://github.com/Defense-Circuits-Lab/stats_n_plots/blob/master/environment.yml)). Just make sure to place the file either in the current working directory (usually displayed at the beginning of each line in your terminal), or to provide the entire filepath (e.g. something like: \"C:\\\\Users\\\\dsege\\\\Downloads\\\\environment.yml\"): \n",
    "\n",
    "With the \"environment.yml\" file in your current working directory: <br>\n",
    "\n",
    "> conda env create -file environment.yml\n",
    "\n",
    "\n",
    "With the \"environment.yml\" file in a different directory: <br>\n",
    "\n",
    "> conda env create -file path\\\\to\\\\the\\\\file\\\\environment.yml\n",
    "\n",
    "\n",
    "This will install all dependencies that are required to use `stats_n_plost`, including its GUI version."
   ]
  },
  {
   "cell_type": "markdown",
   "metadata": {},
   "source": [
    ":::{.callout-note}\n",
    "\n",
    "This installation was so far only tested on Linux (Ubuntu 20.04.4) using conda 22.9.0\n",
    "\n",
    ":::"
   ]
  },
  {
   "cell_type": "markdown",
   "metadata": {},
   "source": [
    ":::{.callout-note}\n",
    "\n",
    "If you would like to contribute to the development of `stats_n_plost` you are more than welcome! On top of the regular user installation, you will, however, also need to install `nbdev` in the same environment. Simply follow all the steps above and once you have verified that everything was installed correcty, simply run in the same conda environment:\n",
    "\n",
    "> conda install -c fastai nbdev\n",
    "\n",
    "If you are new to `nbdev`, you´d probably also want to check out their comprehensive tutorials and walkthroughs [here](https://nbdev.fast.ai/tutorials/). I will also add some more contribution guidelines to this repository soon. In the meantime, feel free to get in touch! :-)\n",
    "\n",
    ":::\n"
   ]
  },
  {
   "cell_type": "markdown",
   "metadata": {},
   "source": [
    "### Using pip:"
   ]
  },
  {
   "cell_type": "markdown",
   "metadata": {},
   "source": [
    "Despite the `stats_n_plots` package itself is only available via pypi.org, we still highly recommend to follow the installation guidelines \"using conda\" above, especially if you´d like to use its GUI functionalities. If you´d still want to go down this route, here´s your install command:\n",
    "\n",
    "\n",
    "> pip install dcl-stats-n-plots\n"
   ]
  },
  {
   "cell_type": "markdown",
   "metadata": {},
   "source": [
    "## How to use\n",
    "\n",
    ".. the documentation, including the comprehensive tutorials, is currently being updated .."
   ]
  },
  {
   "cell_type": "markdown",
   "metadata": {},
   "source": [
    "## Next steps"
   ]
  },
  {
   "cell_type": "markdown",
   "metadata": {},
   "source": [
    ":::{.callout-caution}\n",
    "\n",
    "The repository was migrated to be now located on the recently created [Defense-Circuits-Lab GitHub organisation](https://github.com/orgs/Defense-Circuits-Lab/repositories) - originally, it was created and developed [here](https://github.com/DSegebarth/dcl_stats_n_plots). Alongside the migration, the package was also renamed (originally: `dcl_stats_n_plots`, now: `stats_n_plots`).\n",
    "\n",
    "**Importantly, development & maintenance will only continue in [this repository](https://github.com/Defense-Circuits-Lab/stats_n_plots) on the `stats_n_plots` package, which can be accessed from [PyPi here](https://pypi.org/project/stats-n-plots/).**\n",
    "\n",
    ":::"
   ]
  },
  {
   "cell_type": "markdown",
   "metadata": {},
   "source": [
    "With the main steps of the migration being completed, the next steps include:\n",
    "\n",
    "* Update the documentation to eventually match the \"refactored\" version, which actually already includes some new statistical tests compared to the old version, as well as additional functions inteded to improve usability (like exporting & importing your current plotting settings)\n",
    "* Add contribution guidelines and information\n",
    "\n",
    "Once the steps listed above are completed, there are plenty of ideas for how to continue developing this package further:\n",
    "\n",
    "* integrate tests (especially with the improved CI of nbdev v2 and also once additional contributors join)\n",
    "* add additional statistical tests & plots (e.g. Kolmogorov-Smirnov test for goodness of fit for cumulative probability functions, or linear & linear mixed effect models, ..)\n",
    "* add additional customization options (optional hue column, fonts, ..)\n",
    "* improve how configs are export and imported, ideally to include all settings (type of plot, color scheme, ...)\n",
    "* create DCL-default configs\n",
    "* fix bugs ;-)"
   ]
  }
 ],
 "metadata": {
  "kernelspec": {
   "display_name": "Python 3 (ipykernel)",
   "language": "python",
   "name": "python3"
  }
 },
 "nbformat": 4,
 "nbformat_minor": 4
}
