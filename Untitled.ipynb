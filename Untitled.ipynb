{
 "cells": [
  {
   "cell_type": "raw",
   "metadata": {},
   "source": [
    "---\n",
    "{}\n",
    "\n",
    "---\n",
    "\n"
   ]
  },
  {
   "cell_type": "code",
   "execution_count": 3,
   "id": "f84df772-1526-463b-a2d6-9cce55acd126",
   "metadata": {},
   "outputs": [],
   "source": [
    "from dcl_stats_n_plots.gui_refactored import launch_gui"
   ]
  },
  {
   "cell_type": "code",
   "execution_count": 4,
   "id": "469c57a6-d068-4f5f-9f3c-9ce322ef296c",
   "metadata": {},
   "outputs": [
    {
     "data": {
      "application/vnd.jupyter.widget-view+json": {
       "model_id": "60bfc32183644d4ba5b68754baac2ce6",
       "version_major": 2,
       "version_minor": 0
      },
      "text/plain": [
       "VBox(children=(Label(value='Please select a file (.xlsx or .csv) you would like to upload,                    …"
      ]
     },
     "metadata": {},
     "output_type": "display_data"
    }
   ],
   "source": [
    "launch_gui()"
   ]
  },
  {
   "cell_type": "code",
   "execution_count": null,
   "id": "190120be-7f7d-4cec-9c58-0b49e011d301",
   "metadata": {},
   "outputs": [],
   "source": []
  }
 ],
 "metadata": {
  "kernelspec": {
   "display_name": "Python 3 (ipykernel)",
   "language": "python",
   "name": "python3"
  },
  "language_info": {
   "codemirror_mode": {
    "name": "ipython",
    "version": 3
   },
   "file_extension": ".py",
   "mimetype": "text/x-python",
   "name": "python",
   "nbconvert_exporter": "python",
   "pygments_lexer": "ipython3",
   "version": "3.10.6"
  }
 },
 "nbformat": 4,
 "nbformat_minor": 5
}
