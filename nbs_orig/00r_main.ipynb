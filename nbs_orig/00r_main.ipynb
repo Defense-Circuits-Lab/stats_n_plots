{
 "cells": [
  {
   "cell_type": "code",
   "execution_count": null,
   "id": "261c69a3-8a8f-43ea-979d-321fef8e78b1",
   "metadata": {},
   "outputs": [],
   "source": [
    "# default_exp main_refactored"
   ]
  },
  {
   "cell_type": "code",
   "execution_count": null,
   "id": "61856817-0bef-4166-891a-1d8fb12c6250",
   "metadata": {},
   "outputs": [],
   "source": [
    "#hide\n",
    "from nbdev.showdoc import *"
   ]
  },
  {
   "cell_type": "markdown",
   "id": "4f1e0fec-3bde-4f29-ae44-9afac5ce6934",
   "metadata": {},
   "source": [
    "# main_refactored\n",
    "\n",
    "> This module represents the core of the `dcl_stats_n_plots` package."
   ]
  },
  {
   "cell_type": "code",
   "execution_count": null,
   "id": "ca644c3b-c117-4c4c-85a9-1879c8fedf45",
   "metadata": {},
   "outputs": [],
   "source": [
    "#export\n",
    "from typing import List, Tuple, Dict, Optional\n",
    "\n",
    "import pandas as pd\n",
    "from pathlib import Path\n",
    "import matplotlib.pyplot as plt\n",
    "\n",
    "from dcl_stats_n_plots.database import Database, Configs\n",
    "from dcl_stats_n_plots.stats_refactored import StatisticalTest"
   ]
  },
  {
   "cell_type": "code",
   "execution_count": null,
   "id": "40b24c54-1f60-487b-828d-e263a48b2131",
   "metadata": {},
   "outputs": [],
   "source": [
    "# export\n",
    "class Session:\n",
    "    \n",
    "    def __init__(self) -> None:\n",
    "        self.database = Database()\n",
    "\n",
    "    \n",
    "    def upload_data_via_gui(self, uploader_value: Dict) -> None:\n",
    "        if list(uploader_value.keys())[0].endswith('.csv'):\n",
    "            with open(\"input.csv\", \"w+b\") as i:\n",
    "                i.write(uploader_value[list(uploader_value.keys())[0]]['content'])\n",
    "            df = pd.read_csv('input.csv')\n",
    "        elif list(uploader_value.keys())[0].endswith('.xlsx'):\n",
    "            with open(\"input.xlsx\", \"w+b\") as i:\n",
    "                i.write(uploader_value[list(uploader_value.keys())[0]]['content'])\n",
    "            df = pd.read_excel('input.xlsx')\n",
    "        else:\n",
    "            raise ValueError(f'The file you chose does not correspond to a \".csv\" or \".xslx\" file! Please restart the GUI and change your selection.')\n",
    "        if df.columns[0] == 'Unnamed: 0':\n",
    "            row_wise_differences_excluding_first = df['Unnamed: 0'].diff(1)[1:]\n",
    "            if (row_wise_differences_excluding_first.unique().shape[0] == 1) and (row_wise_differences_excluding_first.unique()[0] == 1):\n",
    "                df = df.drop('Unnamed: 0', axis = 1)\n",
    "        setattr(self.database, 'data', df)\n",
    "    \n",
    "    \n",
    "    def upload_data_via_api(self, filepath: Path) -> None:\n",
    "        if filepath.name.endswith('.xlsx'):\n",
    "            df = pd.read_excel(filepath)\n",
    "        elif filepath.name.endswith('.csv'):\n",
    "            df = pd.read_csv(filepath)\n",
    "        else:\n",
    "            raise ValueError(f'The path you provided ({filepath}) does not correspond to a \".csv\" or \".xslx\" file!')\n",
    "        if df.columns[0] == 'Unnamed: 0':\n",
    "            row_wise_differences_excluding_first = df['Unnamed: 0'].diff(1)[1:]\n",
    "            if (row_wise_differences_excluding_first.unique().shape[0] == 1) and (row_wise_differences_excluding_first.unique()[0] == 1):\n",
    "                df = df.drop('Unnamed: 0', axis = 1)\n",
    "        setattr(self.database, 'data', df)\n",
    "            \n",
    "\n",
    "    def check_for_validity_of_data(self):\n",
    "        # check if self.database.data matches required criteria\n",
    "        pass\n",
    "    \n",
    "    def calculate_stats(self, statistical_test: StatisticalTest, show: bool=True, save: bool=False) -> None:\n",
    "        print('trying to compute the statistical test for: ', StatisticalTest)\n",
    "        self.database = statistical_test().compute(database = self.database)\n",
    "        self.database.plot_handler = statistical_test().plot_handler\n",
    "        \n",
    "    \n",
    "    def create_plot(self, filepath: Optional[Path]=None, dpi: Optional[int]=None, show: bool=True, save: bool=False) -> None:\n",
    "        self.database = self.database.plot_handler().plot(database = self.database)\n",
    "        if show:\n",
    "            plt.tight_layout()\n",
    "            plt.show()\n",
    "        if save:\n",
    "            if dpi == None:\n",
    "                dpi = 300\n",
    "            if filepath != None:\n",
    "                plt.tight_layout()\n",
    "                plt.savefig(filepath, dpi = dpi)\n",
    "                plt.close()\n",
    "            else:\n",
    "                plt.tight_layout()\n",
    "                plt.savefig('customized_plot.png', dpi = dpi)\n",
    "                plt.close()\n",
    "        \n",
    "    \n",
    "    def export_configs(self, filepath: Path) -> None:\n",
    "        self.configs.export_configs_to_file(filepath = filepath)\n",
    "        \n",
    "    \n",
    "    def load_configs(self, filepath: Path) -> None:\n",
    "        self.configs.load_configs_from_file(filepath = filepath)\n",
    "        \n",
    "        \n",
    "    def export_stats_results(self, filepath: Optional[Path]=None) -> None:\n",
    "        self.database.export_stats_results(filepath = filepath)\n",
    "      "
   ]
  }
 ],
 "metadata": {
  "kernelspec": {
   "display_name": "Python 3 (ipykernel)",
   "language": "python",
   "name": "python3"
  }
 },
 "nbformat": 4,
 "nbformat_minor": 5
}
