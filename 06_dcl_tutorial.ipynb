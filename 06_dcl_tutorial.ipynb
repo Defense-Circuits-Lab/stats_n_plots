{
 "cells": [
  {
   "cell_type": "raw",
   "metadata": {},
   "source": [
    "---\n",
    "description: This tutorial is specific for persons with access to the server of the\n",
    "  DCL\n",
    "output-file: dcl_tutorial.html\n",
    "title: dcl_tutorial\n",
    "\n",
    "---\n",
    "\n"
   ]
  },
  {
   "cell_type": "markdown",
   "id": "fa424b0a-86bb-4c10-8ba4-205c8b67f007",
   "metadata": {},
   "source": [
    "In order to use dcl_stats_n_plots on the DCL server please login to the server. Then use the windows search bar to open the \"Anaconda Prompt\" terminal:\n",
    "\n",
    "![conda_prompt.png](https://raw.githubusercontent.com/DSegebarth/dcl_stats_n_plots/master/media/conda_prompt.PNG)"
   ]
  },
  {
   "cell_type": "markdown",
   "id": "c826e050-5095-41ba-8223-599447a7736c",
   "metadata": {},
   "source": [
    "The terminal will indicate the Anaconda environment that is currently running (indicated in brackets at the very beginning of each line, \"base\" in this example):\n",
    "\n",
    "![empty_conda_prompt.png](https://raw.githubusercontent.com/DSegebarth/dcl_stats_n_plots/master/media/empty_conda_prompt.PNG)"
   ]
  },
  {
   "cell_type": "markdown",
   "id": "00c6bea8-816f-4e6f-8850-485f2f4e23b8",
   "metadata": {},
   "source": [
    "To make sure, that we have all python packages that are required to run dcl_stats_n_plots, we have to switch to a different Anaconda environment first. To do this, simply type: \n",
    "\n",
    "`conda activate DCLwidgets` \n",
    "\n",
    "into the terminal:\n",
    "\n",
    "![activate_DCLwidgets.png](https://raw.githubusercontent.com/DSegebarth/dcl_stats_n_plots/master/media/activate_DCLwidgets.PNG)\n",
    "\n",
    "\n",
    "And execute the command by hitting return on your keyboard. You can know that the new environment was successfully activated, if the \"base\" in brackets at the beginning of the line is now replaced by \"DCLwidgets\":\n",
    "\n",
    "![activated_DCLwidgets.png](https://raw.githubusercontent.com/DSegebarth/dcl_stats_n_plots/master/media/activated_DCLwidgets.PNG)"
   ]
  },
  {
   "cell_type": "markdown",
   "id": "4dfc6f6b-94a8-4376-9256-bbdbd67185aa",
   "metadata": {},
   "source": [
    "Now all you have to do is to launch Jupyter-Lab, which will provide you ultimately with the graphical user interface. For this, type:\n",
    "\n",
    "`jupyter-lab --no-browser`\n",
    "\n",
    "into the terminal:\n",
    "\n",
    "![command_jupyter-lab-no-browser.png](https://raw.githubusercontent.com/DSegebarth/dcl_stats_n_plots/master/media/command_jupyter-lab-no-browser.PNG)\n",
    "\n",
    "\n",
    "And again execute the command by hitting return on your keyboard. As response, the terminal will print you some lines as output:\n",
    "\n",
    "![run_jupyter-lab-no-browser.png](https://raw.githubusercontent.com/DSegebarth/dcl_stats_n_plots/master/media/run_jupyter-lab-no-browser.PNG)\n",
    "\n",
    "\n",
    "Now copy the following URL from this output:\n",
    "\n",
    "![copy_url.png](https://raw.githubusercontent.com/DSegebarth/dcl_stats_n_plots/master/media/copy_url.PNG)\n",
    "\n",
    "And paste it into your favorite browser (please use Chrome, Safari, or Firefox for this - Edge doesn´t do the job properly). After Jupyter-Lab is launched, you will see something like this:\n",
    "\n",
    "![open_in_chrome.png](https://raw.githubusercontent.com/DSegebarth/dcl_stats_n_plots/master/media/open_in_chrome.PNG)\n",
    "\n",
    "\n",
    "If you have not used dcl_stats_n_plots in a Jupyter notebook before, you have to open a new notebook first. Simply click on the square saying \"Python 3 (ipykernel)\" under in the Notebook category (upper most). This will open a new tab in Jupyter lab that is now actually a Jupyter Notebook.\n",
    "\n",
    "Now its finally time to write some code! Please type:\n",
    "\n",
    "`from dcl_stats_n_plots import gui`\n",
    "\n",
    "and\n",
    "\n",
    "`gui.launch()`\n",
    "\n",
    "into a cell of the Jupyter notebook and execute the code, either by hitting \"command\" + \"return\" on your keyboard or simply by clicking the little play button at the very top of the notebook. As response, the notebook will launch the GUI and you are ready to go:\n",
    "\n",
    "![launch_gui.png](https://raw.githubusercontent.com/DSegebarth/dcl_stats_n_plots/master/media/launch_gui.PNG)\n",
    "\n",
    "\n",
    "For how to use the GUI, please check out the [GUI tutorial](https://dsegebarth.github.io/dcl_stats_n_plots/gui_tutorial.html).\n",
    "\n",
    "For those of you that want to interact with the package by using python code, you can also follow the same steps and instead of launching the GUI, you can instead start to load your data and use the API, as explained in the [API tutorial](https://dsegebarth.github.io/dcl_stats_n_plots/api_tutorial.html)."
   ]
  }
 ],
 "metadata": {
  "kernelspec": {
   "display_name": "Python 3 (ipykernel)",
   "language": "python",
   "name": "python3"
  }
 },
 "nbformat": 4,
 "nbformat_minor": 5
}
